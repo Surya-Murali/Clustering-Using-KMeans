{
 "cells": [
  {
   "cell_type": "code",
   "execution_count": 1,
   "metadata": {
    "scrolled": true
   },
   "outputs": [
    {
     "name": "stdout",
     "output_type": "stream",
     "text": [
      "(4899, 1)\n"
     ]
    },
    {
     "data": {
      "text/html": [
       "<div>\n",
       "<style>\n",
       "    .dataframe thead tr:only-child th {\n",
       "        text-align: right;\n",
       "    }\n",
       "\n",
       "    .dataframe thead th {\n",
       "        text-align: left;\n",
       "    }\n",
       "\n",
       "    .dataframe tbody tr th {\n",
       "        vertical-align: top;\n",
       "    }\n",
       "</style>\n",
       "<table border=\"1\" class=\"dataframe\">\n",
       "  <thead>\n",
       "    <tr style=\"text-align: right;\">\n",
       "      <th></th>\n",
       "      <th>0</th>\n",
       "    </tr>\n",
       "  </thead>\n",
       "  <tbody>\n",
       "    <tr>\n",
       "      <th>count</th>\n",
       "      <td>4899</td>\n",
       "    </tr>\n",
       "    <tr>\n",
       "      <th>unique</th>\n",
       "      <td>3962</td>\n",
       "    </tr>\n",
       "    <tr>\n",
       "      <th>top</th>\n",
       "      <td>7.3;0.19;0.27;13.9;0.057;45;155;0.99807;2.94;0...</td>\n",
       "    </tr>\n",
       "    <tr>\n",
       "      <th>freq</th>\n",
       "      <td>8</td>\n",
       "    </tr>\n",
       "  </tbody>\n",
       "</table>\n",
       "</div>"
      ],
      "text/plain": [
       "                                                        0\n",
       "count                                                4899\n",
       "unique                                               3962\n",
       "top     7.3;0.19;0.27;13.9;0.057;45;155;0.99807;2.94;0...\n",
       "freq                                                    8"
      ]
     },
     "execution_count": 1,
     "metadata": {},
     "output_type": "execute_result"
    }
   ],
   "source": [
    "#import Pandas library for Data Analysis\n",
    "import pandas as pd\n",
    "df=pd.read_csv(r\"C:\\Users\\surya\\Desktop\\SpringSemester\\Flex 4\\IDA\\HW3\\winequality-white.csv\",header=None)\n",
    "print(df.shape) #Check the number of columns\n",
    "df.describe() #Check the structure of data"
   ]
  },
  {
   "cell_type": "code",
   "execution_count": null,
   "metadata": {
    "scrolled": true
   },
   "outputs": [],
   "source": [
    "print(df.head())\n",
    "dfs=df.drop([2,34],axis=1) #Drop column 2 as per the question and column 34 which has '?' characters\n",
    "X=dfs.iloc[:,2:] #Take X as attributes\n",
    "y=dfs.iloc[:,1] #Take y as class label\n",
    "y=y.map({'R':1,'N':0}) #Map R as 1 and N as 0"
   ]
  },
  {
   "cell_type": "markdown",
   "metadata": {},
   "source": [
    "## 4 fold Cross Validation & Decision Tree Classifier"
   ]
  },
  {
   "cell_type": "code",
   "execution_count": 422,
   "metadata": {},
   "outputs": [
    {
     "name": "stdout",
     "output_type": "stream",
     "text": [
      "accuracy mean:  0.757708333333\n",
      "Accuracy scores:  [ 0.76        0.74        0.76        0.77083333]\n",
      "Classification report: \n",
      "              precision    recall  f1-score   support\n",
      "\n",
      "          0       0.74      0.94      0.83        36\n",
      "          1       0.50      0.14      0.22        14\n",
      "\n",
      "avg / total       0.67      0.72      0.66        50\n",
      "\n"
     ]
    }
   ],
   "source": [
    "from sklearn import tree #Import the Machine Learning Library\n",
    "from sklearn.cross_validation import cross_val_score #Import the cross validation function\n",
    "dt_clf=tree.DecisionTreeClassifier(max_depth=2,max_leaf_nodes=2,\n",
    "                                   min_samples_leaf=5,min_samples_split=4) #call the decision tree classifier\n",
    "scores=cross_val_score(dt_clf,X,y,cv=4,scoring='accuracy')\n",
    "\n",
    "print(\"accuracy mean: \",scores.mean())\n",
    "print(\"Accuracy scores: \",scores)\n",
    "\n",
    "from sklearn.model_selection import train_test_split #import the test train split method\n",
    "from sklearn.metrics import classification_report # for precision and class values\n",
    "X_train, X_test, y_train, y_test = train_test_split(X, y, random_state=1) \n",
    "clf_fit=dt_clf.fit(X_train,y_train) #fit test and train data\n",
    "pred=clf_fit.predict(X_test) #predict the data\n",
    "print  (\"Classification report: \\n\", classification_report(y_test,pred))"
   ]
  },
  {
   "cell_type": "code",
   "execution_count": 423,
   "metadata": {
    "scrolled": true
   },
   "outputs": [
    {
     "data": {
      "text/html": [
       "<div>\n",
       "<style>\n",
       "    .dataframe thead tr:only-child th {\n",
       "        text-align: right;\n",
       "    }\n",
       "\n",
       "    .dataframe thead th {\n",
       "        text-align: left;\n",
       "    }\n",
       "\n",
       "    .dataframe tbody tr th {\n",
       "        vertical-align: top;\n",
       "    }\n",
       "</style>\n",
       "<table border=\"1\" class=\"dataframe\">\n",
       "  <thead>\n",
       "    <tr style=\"text-align: right;\">\n",
       "      <th></th>\n",
       "      <th>0</th>\n",
       "      <th>1</th>\n",
       "      <th>2</th>\n",
       "      <th>3</th>\n",
       "      <th>4</th>\n",
       "      <th>5</th>\n",
       "      <th>6</th>\n",
       "      <th>7</th>\n",
       "      <th>8</th>\n",
       "      <th>9</th>\n",
       "      <th>...</th>\n",
       "      <th>25</th>\n",
       "      <th>26</th>\n",
       "      <th>27</th>\n",
       "      <th>28</th>\n",
       "      <th>29</th>\n",
       "      <th>30</th>\n",
       "      <th>31</th>\n",
       "      <th>32</th>\n",
       "      <th>33</th>\n",
       "      <th>34</th>\n",
       "    </tr>\n",
       "  </thead>\n",
       "  <tbody>\n",
       "    <tr>\n",
       "      <th>0</th>\n",
       "      <td>119513</td>\n",
       "      <td>N</td>\n",
       "      <td>31</td>\n",
       "      <td>18.02</td>\n",
       "      <td>27.60</td>\n",
       "      <td>117.50</td>\n",
       "      <td>1013.0</td>\n",
       "      <td>0.09489</td>\n",
       "      <td>0.1036</td>\n",
       "      <td>0.1086</td>\n",
       "      <td>...</td>\n",
       "      <td>139.70</td>\n",
       "      <td>1436.0</td>\n",
       "      <td>0.1195</td>\n",
       "      <td>0.1926</td>\n",
       "      <td>0.3140</td>\n",
       "      <td>0.1170</td>\n",
       "      <td>0.2677</td>\n",
       "      <td>0.08113</td>\n",
       "      <td>5.0</td>\n",
       "      <td>5</td>\n",
       "    </tr>\n",
       "    <tr>\n",
       "      <th>1</th>\n",
       "      <td>8423</td>\n",
       "      <td>N</td>\n",
       "      <td>61</td>\n",
       "      <td>17.99</td>\n",
       "      <td>10.38</td>\n",
       "      <td>122.80</td>\n",
       "      <td>1001.0</td>\n",
       "      <td>0.11840</td>\n",
       "      <td>0.2776</td>\n",
       "      <td>0.3001</td>\n",
       "      <td>...</td>\n",
       "      <td>184.60</td>\n",
       "      <td>2019.0</td>\n",
       "      <td>0.1622</td>\n",
       "      <td>0.6656</td>\n",
       "      <td>0.7119</td>\n",
       "      <td>0.2654</td>\n",
       "      <td>0.4601</td>\n",
       "      <td>0.11890</td>\n",
       "      <td>3.0</td>\n",
       "      <td>2</td>\n",
       "    </tr>\n",
       "    <tr>\n",
       "      <th>2</th>\n",
       "      <td>842517</td>\n",
       "      <td>N</td>\n",
       "      <td>116</td>\n",
       "      <td>21.37</td>\n",
       "      <td>17.44</td>\n",
       "      <td>137.50</td>\n",
       "      <td>1373.0</td>\n",
       "      <td>0.08836</td>\n",
       "      <td>0.1189</td>\n",
       "      <td>0.1255</td>\n",
       "      <td>...</td>\n",
       "      <td>159.10</td>\n",
       "      <td>1949.0</td>\n",
       "      <td>0.1188</td>\n",
       "      <td>0.3449</td>\n",
       "      <td>0.3414</td>\n",
       "      <td>0.2032</td>\n",
       "      <td>0.4334</td>\n",
       "      <td>0.09067</td>\n",
       "      <td>2.5</td>\n",
       "      <td>0</td>\n",
       "    </tr>\n",
       "    <tr>\n",
       "      <th>3</th>\n",
       "      <td>843483</td>\n",
       "      <td>N</td>\n",
       "      <td>123</td>\n",
       "      <td>11.42</td>\n",
       "      <td>20.38</td>\n",
       "      <td>77.58</td>\n",
       "      <td>386.1</td>\n",
       "      <td>0.14250</td>\n",
       "      <td>0.2839</td>\n",
       "      <td>0.2414</td>\n",
       "      <td>...</td>\n",
       "      <td>98.87</td>\n",
       "      <td>567.7</td>\n",
       "      <td>0.2098</td>\n",
       "      <td>0.8663</td>\n",
       "      <td>0.6869</td>\n",
       "      <td>0.2575</td>\n",
       "      <td>0.6638</td>\n",
       "      <td>0.17300</td>\n",
       "      <td>2.0</td>\n",
       "      <td>0</td>\n",
       "    </tr>\n",
       "    <tr>\n",
       "      <th>4</th>\n",
       "      <td>843584</td>\n",
       "      <td>R</td>\n",
       "      <td>27</td>\n",
       "      <td>20.29</td>\n",
       "      <td>14.34</td>\n",
       "      <td>135.10</td>\n",
       "      <td>1297.0</td>\n",
       "      <td>0.10030</td>\n",
       "      <td>0.1328</td>\n",
       "      <td>0.1980</td>\n",
       "      <td>...</td>\n",
       "      <td>152.20</td>\n",
       "      <td>1575.0</td>\n",
       "      <td>0.1374</td>\n",
       "      <td>0.2050</td>\n",
       "      <td>0.4000</td>\n",
       "      <td>0.1625</td>\n",
       "      <td>0.2364</td>\n",
       "      <td>0.07678</td>\n",
       "      <td>3.5</td>\n",
       "      <td>0</td>\n",
       "    </tr>\n",
       "  </tbody>\n",
       "</table>\n",
       "<p>5 rows × 35 columns</p>\n",
       "</div>"
      ],
      "text/plain": [
       "       0  1    2      3      4       5       6        7       8       9  ...  \\\n",
       "0  119513  N   31  18.02  27.60  117.50  1013.0  0.09489  0.1036  0.1086 ...   \n",
       "1    8423  N   61  17.99  10.38  122.80  1001.0  0.11840  0.2776  0.3001 ...   \n",
       "2  842517  N  116  21.37  17.44  137.50  1373.0  0.08836  0.1189  0.1255 ...   \n",
       "3  843483  N  123  11.42  20.38   77.58   386.1  0.14250  0.2839  0.2414 ...   \n",
       "4  843584  R   27  20.29  14.34  135.10  1297.0  0.10030  0.1328  0.1980 ...   \n",
       "\n",
       "       25      26      27      28      29      30      31       32   33  34  \n",
       "0  139.70  1436.0  0.1195  0.1926  0.3140  0.1170  0.2677  0.08113  5.0   5  \n",
       "1  184.60  2019.0  0.1622  0.6656  0.7119  0.2654  0.4601  0.11890  3.0   2  \n",
       "2  159.10  1949.0  0.1188  0.3449  0.3414  0.2032  0.4334  0.09067  2.5   0  \n",
       "3   98.87   567.7  0.2098  0.8663  0.6869  0.2575  0.6638  0.17300  2.0   0  \n",
       "4  152.20  1575.0  0.1374  0.2050  0.4000  0.1625  0.2364  0.07678  3.5   0  \n",
       "\n",
       "[5 rows x 35 columns]"
      ]
     },
     "execution_count": 423,
     "metadata": {},
     "output_type": "execute_result"
    }
   ],
   "source": [
    "df.head()"
   ]
  },
  {
   "cell_type": "markdown",
   "metadata": {},
   "source": [
    "### Data Preparation"
   ]
  },
  {
   "cell_type": "code",
   "execution_count": 424,
   "metadata": {},
   "outputs": [
    {
     "data": {
      "text/plain": [
       "0     31\n",
       "1     61\n",
       "2    116\n",
       "3    123\n",
       "4     27\n",
       "Name: 2, dtype: int64"
      ]
     },
     "execution_count": 424,
     "metadata": {},
     "output_type": "execute_result"
    }
   ],
   "source": [
    "dfs=df.drop([1,34],axis=1)#drop the R & N class column & the last column with th\n",
    "Xr=dfs.iloc[:,2:] #Feature matrix \n",
    "yr=dfs.iloc[:,1] #Class variable\n",
    "yr.head()"
   ]
  },
  {
   "cell_type": "markdown",
   "metadata": {},
   "source": [
    "### Test Train Split"
   ]
  },
  {
   "cell_type": "code",
   "execution_count": 425,
   "metadata": {
    "scrolled": true
   },
   "outputs": [
    {
     "name": "stdout",
     "output_type": "stream",
     "text": [
      "(132, 33)\n"
     ]
    },
    {
     "data": {
      "text/html": [
       "<div>\n",
       "<style>\n",
       "    .dataframe thead tr:only-child th {\n",
       "        text-align: right;\n",
       "    }\n",
       "\n",
       "    .dataframe thead th {\n",
       "        text-align: left;\n",
       "    }\n",
       "\n",
       "    .dataframe tbody tr th {\n",
       "        vertical-align: top;\n",
       "    }\n",
       "</style>\n",
       "<table border=\"1\" class=\"dataframe\">\n",
       "  <thead>\n",
       "    <tr style=\"text-align: right;\">\n",
       "      <th></th>\n",
       "      <th>0</th>\n",
       "      <th>2</th>\n",
       "      <th>3</th>\n",
       "      <th>4</th>\n",
       "      <th>5</th>\n",
       "      <th>6</th>\n",
       "      <th>7</th>\n",
       "      <th>8</th>\n",
       "      <th>9</th>\n",
       "      <th>10</th>\n",
       "      <th>...</th>\n",
       "      <th>24</th>\n",
       "      <th>25</th>\n",
       "      <th>26</th>\n",
       "      <th>27</th>\n",
       "      <th>28</th>\n",
       "      <th>29</th>\n",
       "      <th>30</th>\n",
       "      <th>31</th>\n",
       "      <th>32</th>\n",
       "      <th>33</th>\n",
       "    </tr>\n",
       "  </thead>\n",
       "  <tbody>\n",
       "    <tr>\n",
       "      <th>116</th>\n",
       "      <td>8912049</td>\n",
       "      <td>55</td>\n",
       "      <td>19.16</td>\n",
       "      <td>26.60</td>\n",
       "      <td>126.2</td>\n",
       "      <td>1138.0</td>\n",
       "      <td>0.10200</td>\n",
       "      <td>0.14530</td>\n",
       "      <td>0.19210</td>\n",
       "      <td>0.09664</td>\n",
       "      <td>...</td>\n",
       "      <td>35.90</td>\n",
       "      <td>159.8</td>\n",
       "      <td>1724.0</td>\n",
       "      <td>0.1782</td>\n",
       "      <td>0.3841</td>\n",
       "      <td>0.5754</td>\n",
       "      <td>0.1872</td>\n",
       "      <td>0.3258</td>\n",
       "      <td>0.09720</td>\n",
       "      <td>1.5</td>\n",
       "    </tr>\n",
       "    <tr>\n",
       "      <th>79</th>\n",
       "      <td>874217</td>\n",
       "      <td>91</td>\n",
       "      <td>18.31</td>\n",
       "      <td>18.58</td>\n",
       "      <td>118.6</td>\n",
       "      <td>1041.0</td>\n",
       "      <td>0.08588</td>\n",
       "      <td>0.08468</td>\n",
       "      <td>0.08169</td>\n",
       "      <td>0.05814</td>\n",
       "      <td>...</td>\n",
       "      <td>26.36</td>\n",
       "      <td>139.2</td>\n",
       "      <td>1410.0</td>\n",
       "      <td>0.1234</td>\n",
       "      <td>0.2445</td>\n",
       "      <td>0.3538</td>\n",
       "      <td>0.1571</td>\n",
       "      <td>0.3206</td>\n",
       "      <td>0.06938</td>\n",
       "      <td>6.0</td>\n",
       "    </tr>\n",
       "    <tr>\n",
       "      <th>50</th>\n",
       "      <td>86208</td>\n",
       "      <td>10</td>\n",
       "      <td>20.77</td>\n",
       "      <td>22.83</td>\n",
       "      <td>137.4</td>\n",
       "      <td>1336.0</td>\n",
       "      <td>0.10330</td>\n",
       "      <td>0.15150</td>\n",
       "      <td>0.16370</td>\n",
       "      <td>0.10150</td>\n",
       "      <td>...</td>\n",
       "      <td>29.43</td>\n",
       "      <td>159.9</td>\n",
       "      <td>1816.0</td>\n",
       "      <td>0.1385</td>\n",
       "      <td>0.4107</td>\n",
       "      <td>0.3757</td>\n",
       "      <td>0.1881</td>\n",
       "      <td>0.3371</td>\n",
       "      <td>0.07651</td>\n",
       "      <td>4.0</td>\n",
       "    </tr>\n",
       "    <tr>\n",
       "      <th>139</th>\n",
       "      <td>90312</td>\n",
       "      <td>13</td>\n",
       "      <td>19.55</td>\n",
       "      <td>23.21</td>\n",
       "      <td>128.9</td>\n",
       "      <td>1174.0</td>\n",
       "      <td>0.10100</td>\n",
       "      <td>0.13180</td>\n",
       "      <td>0.18560</td>\n",
       "      <td>0.10210</td>\n",
       "      <td>...</td>\n",
       "      <td>30.44</td>\n",
       "      <td>142.0</td>\n",
       "      <td>1313.0</td>\n",
       "      <td>0.1251</td>\n",
       "      <td>0.2414</td>\n",
       "      <td>0.3829</td>\n",
       "      <td>0.1825</td>\n",
       "      <td>0.2576</td>\n",
       "      <td>0.07602</td>\n",
       "      <td>4.0</td>\n",
       "    </tr>\n",
       "    <tr>\n",
       "      <th>61</th>\n",
       "      <td>867305</td>\n",
       "      <td>104</td>\n",
       "      <td>16.16</td>\n",
       "      <td>21.54</td>\n",
       "      <td>106.2</td>\n",
       "      <td>809.8</td>\n",
       "      <td>0.10080</td>\n",
       "      <td>0.12840</td>\n",
       "      <td>0.10430</td>\n",
       "      <td>0.05613</td>\n",
       "      <td>...</td>\n",
       "      <td>31.68</td>\n",
       "      <td>129.7</td>\n",
       "      <td>1175.0</td>\n",
       "      <td>0.1395</td>\n",
       "      <td>0.3055</td>\n",
       "      <td>0.2992</td>\n",
       "      <td>0.1312</td>\n",
       "      <td>0.3480</td>\n",
       "      <td>0.07619</td>\n",
       "      <td>1.2</td>\n",
       "    </tr>\n",
       "  </tbody>\n",
       "</table>\n",
       "<p>5 rows × 33 columns</p>\n",
       "</div>"
      ],
      "text/plain": [
       "          0    2      3      4      5       6        7        8        9   \\\n",
       "116  8912049   55  19.16  26.60  126.2  1138.0  0.10200  0.14530  0.19210   \n",
       "79    874217   91  18.31  18.58  118.6  1041.0  0.08588  0.08468  0.08169   \n",
       "50     86208   10  20.77  22.83  137.4  1336.0  0.10330  0.15150  0.16370   \n",
       "139    90312   13  19.55  23.21  128.9  1174.0  0.10100  0.13180  0.18560   \n",
       "61    867305  104  16.16  21.54  106.2   809.8  0.10080  0.12840  0.10430   \n",
       "\n",
       "          10 ...      24     25      26      27      28      29      30  \\\n",
       "116  0.09664 ...   35.90  159.8  1724.0  0.1782  0.3841  0.5754  0.1872   \n",
       "79   0.05814 ...   26.36  139.2  1410.0  0.1234  0.2445  0.3538  0.1571   \n",
       "50   0.10150 ...   29.43  159.9  1816.0  0.1385  0.4107  0.3757  0.1881   \n",
       "139  0.10210 ...   30.44  142.0  1313.0  0.1251  0.2414  0.3829  0.1825   \n",
       "61   0.05613 ...   31.68  129.7  1175.0  0.1395  0.3055  0.2992  0.1312   \n",
       "\n",
       "         31       32   33  \n",
       "116  0.3258  0.09720  1.5  \n",
       "79   0.3206  0.06938  6.0  \n",
       "50   0.3371  0.07651  4.0  \n",
       "139  0.2576  0.07602  4.0  \n",
       "61   0.3480  0.07619  1.2  \n",
       "\n",
       "[5 rows x 33 columns]"
      ]
     },
     "execution_count": 425,
     "metadata": {},
     "output_type": "execute_result"
    }
   ],
   "source": [
    "from sklearn.metrics import classification_report #for performance matrix plot\n",
    "#Segment data into test train for class and features 2/3rd and 1/3rd resp.\n",
    "Xr_train, Xr_test, yr_train, yr_test = train_test_split(Xr, yr, test_size=0.33)\n",
    "#Segment data into testing and training 2/3rd and 1/3rd resp.\n",
    "train_d,test_d=train_test_split(dfs,test_size=0.33)\n",
    "print(train_d.shape)\n",
    "train_d.head()"
   ]
  },
  {
   "cell_type": "code",
   "execution_count": 426,
   "metadata": {},
   "outputs": [
    {
     "data": {
      "text/plain": [
       "(132, 31)"
      ]
     },
     "execution_count": 426,
     "metadata": {},
     "output_type": "execute_result"
    }
   ],
   "source": [
    "Xr_train.shape #2/3rd division"
   ]
  },
  {
   "cell_type": "code",
   "execution_count": 427,
   "metadata": {
    "scrolled": true
   },
   "outputs": [
    {
     "data": {
      "text/plain": [
       "(66,)"
      ]
     },
     "execution_count": 427,
     "metadata": {},
     "output_type": "execute_result"
    }
   ],
   "source": [
    "yr_test.shape #1/3rd division"
   ]
  },
  {
   "cell_type": "markdown",
   "metadata": {},
   "source": [
    "### MSE"
   ]
  },
  {
   "cell_type": "code",
   "execution_count": 428,
   "metadata": {},
   "outputs": [
    {
     "name": "stdout",
     "output_type": "stream",
     "text": [
      "46.73232323232323\n"
     ]
    }
   ],
   "source": [
    "import numpy as np\n",
    "yr_avg=yr.mean() #yr is the time variable\n",
    "print(yr_avg)\n",
    "def MSE(YH):\n",
    "    return np.square(yr_avg-YH).mean()"
   ]
  },
  {
   "cell_type": "code",
   "execution_count": 429,
   "metadata": {
    "scrolled": true
   },
   "outputs": [
    {
     "name": "stdout",
     "output_type": "stream",
     "text": [
      "Mean Square error of Training class data  1174.777191102949\n",
      "Mean Square error of Testing class data  1195.51854402612\n"
     ]
    }
   ],
   "source": [
    "#print(yr_train)\n",
    "yr_train_MSE=MSE(yr_train)\n",
    "print(\"Mean Square error of Training class data \",yr_train_MSE)\n",
    "yr_test_MSE=MSE(yr_test)\n",
    "print(\"Mean Square error of Testing class data \",yr_test_MSE)"
   ]
  },
  {
   "cell_type": "markdown",
   "metadata": {},
   "source": [
    "### correlation"
   ]
  },
  {
   "cell_type": "code",
   "execution_count": 415,
   "metadata": {
    "collapsed": true
   },
   "outputs": [],
   "source": [
    "\n",
    "coff_matrix=train_d.corr()\n",
    "\n",
    "#print(coff_matrix)"
   ]
  },
  {
   "cell_type": "markdown",
   "metadata": {},
   "source": [
    "To find the maximum correlation"
   ]
  },
  {
   "cell_type": "code",
   "execution_count": 430,
   "metadata": {
    "scrolled": true
   },
   "outputs": [
    {
     "name": "stdout",
     "output_type": "stream",
     "text": [
      "2     1.000000\n",
      "6     0.288689\n",
      "5     0.283980\n",
      "3     0.282377\n",
      "31    0.268892\n",
      "Name: 2, dtype: float64\n",
      "6\n"
     ]
    }
   ],
   "source": [
    "\n",
    "newS=coff_matrix.iloc[1].abs().sort_values(ascending=False)\n",
    "print(newS.head())\n",
    "max_corr=newS[newS==newS.iloc[1]].index[0]\n",
    "#Takes the max correlated index\n",
    "print(max_corr)"
   ]
  },
  {
   "cell_type": "markdown",
   "metadata": {},
   "source": [
    "### median & Split"
   ]
  },
  {
   "cell_type": "code",
   "execution_count": 431,
   "metadata": {},
   "outputs": [
    {
     "name": "stdout",
     "output_type": "stream",
     "text": [
      "6\n",
      "968.4000000000001\n"
     ]
    }
   ],
   "source": [
    "print(max_corr)\n",
    "\n",
    "split_v=train_d[max_corr].median()\n",
    "#The median of the most correlated column\n",
    "print(split_v)"
   ]
  },
  {
   "cell_type": "code",
   "execution_count": null,
   "metadata": {},
   "outputs": [],
   "source": [
    "dfs_new=train_d.loc[:,max_corr].copy() #get the max corr column values\n",
    "print(dfs_new)"
   ]
  },
  {
   "cell_type": "code",
   "execution_count": 433,
   "metadata": {},
   "outputs": [
    {
     "name": "stdout",
     "output_type": "stream",
     "text": [
      "right tree shape (66, 33)\n",
      "left tree shape (66, 33)\n"
     ]
    }
   ],
   "source": [
    "#The median of the most correlated column\n",
    "split_v=train_d[max_corr].median() # split on median\n",
    "dfs_new=train_d.loc[:,max_corr].copy() #get the max corr column\n",
    "dfs_right=train_d[dfs_new > split_v] #select the right tree (value>median)\n",
    "print(\"right tree shape\", dfs_right.shape)\n",
    "dfs_left=train_d[dfs_new <= split_v] #to select the left tree (value<median)\n",
    "print(\"left tree shape\", dfs_left.shape)"
   ]
  },
  {
   "cell_type": "markdown",
   "metadata": {},
   "source": [
    "### Recursive"
   ]
  },
  {
   "cell_type": "code",
   "execution_count": 434,
   "metadata": {},
   "outputs": [
    {
     "name": "stdout",
     "output_type": "stream",
     "text": [
      "Mean Time:  2723.3718815454554\n"
     ]
    }
   ],
   "source": [
    "#Practice - Check\n",
    "len(train_d) #Rows\n",
    "coff_matrix=train_d.corr()\n",
    "newx=coff_matrix.iloc[1].abs().sort_values(ascending=False)\n",
    "max_cor=newx[newx==newx.iloc[1]].index[0] # Taking the most correlated column: iloc[0] is the 1.0000 row. So take the next row. So, iloc[1] \n",
    "split=train_d[max_cor].median()  #Splitting based on the median of the most correlated column\n",
    "\n",
    "avg= train_d.iloc[2].mean()\n",
    "print(\"Mean Time: \", avg )\n",
    "        "
   ]
  },
  {
   "cell_type": "code",
   "execution_count": 435,
   "metadata": {
    "collapsed": true
   },
   "outputs": [],
   "source": [
    "def regression_tree(data):\n",
    "    if(len(data)<=5): #No. of Rows\n",
    "        return\n",
    "    n=len(data)\n",
    "    mse_val=MSE(data[2])  # Time column MSE\n",
    "    print(\"MSE:\",mse_val)\n",
    "    if(mse_val < 700):      #800 is the threshold value\n",
    "        return data,mse_val,print(\"***prune***\")\n",
    "    else:\n",
    "        coff_matrix=data.corr() #Find the correlation Matrix of the data\n",
    "        newx=coff_matrix.iloc[1].abs().sort_values(ascending=False)  #Arranging them in the descending order of Correlation\n",
    "        max_cor=newx[newx==newx.iloc[1]].index[0] # Taking the most correlated column: iloc[0] is the 1.0000 row. So take the next row. So, iloc[1] \n",
    "        print(\"correlated column:\",max_cor)\n",
    "        split=data[max_cor].median()  #Splitting based on the median of the most correlated column\n",
    "        print(\"Median: \", split)\n",
    "        \n",
    "        avg= data.iloc[2].mean()  #Mean Time of the entire Time Column (No splitting done)\n",
    "        print(\"Mean Time: \", avg )\n",
    "        \n",
    "        print(\"\\n<<<<<<<<<<<-------------------\\n\")\n",
    "        print(\"Left Tree:\")\n",
    "        dfx_new=data.loc[:,max_cor].copy()\n",
    "        lefttree=data[dfx_new <= split]    \n",
    "        print(\"No. of left records: \", len(lefttree))\n",
    "        regression_tree(lefttree)\n",
    "        print(\"\\n------------------->>>>>>>>>>>\\n\")\n",
    "        print(\"Right Tree:\")\n",
    "        dfx_new=data.loc[:,max_cor].copy()\n",
    "        righttree=data[dfx_new >split]\n",
    "        print(\"No. of right records: \", len(righttree))\n",
    "        regression_tree(righttree)\n",
    "        \n"
   ]
  },
  {
   "cell_type": "code",
   "execution_count": null,
   "metadata": {
    "scrolled": false
   },
   "outputs": [],
   "source": [
    "#implementing tree\n",
    "regression_tree(train_d)"
   ]
  }
 ],
 "metadata": {
  "kernelspec": {
   "display_name": "Python 3",
   "language": "python",
   "name": "python3"
  },
  "language_info": {
   "codemirror_mode": {
    "name": "ipython",
    "version": 3
   },
   "file_extension": ".py",
   "mimetype": "text/x-python",
   "name": "python",
   "nbconvert_exporter": "python",
   "pygments_lexer": "ipython3",
   "version": "3.6.1"
  }
 },
 "nbformat": 4,
 "nbformat_minor": 2
}
